{
  "cells": [
    {
      "cell_type": "code",
      "execution_count": null,
      "metadata": {
        "id": "a4T-SPVe9cip"
      },
      "outputs": [],
      "source": [
        "\n",
        "import tensorflow as tf\n",
        "import pandas as pd\n",
        "import numpy as np\n",
        "from sklearn.model_selection import train_test_split\n",
        "from keras.models import Sequential\n",
        "from keras.layers import Conv2D, MaxPooling2D, Flatten, Dense, BatchNormalization, Input, Dropout, Add, ZeroPadding2D\n",
        "from keras.models import Model\n",
        "from keras.callbacks import ReduceLROnPlateau, EarlyStopping\n",
        "from tensorflow.keras.optimizers import Adam\n",
        "from tensorflow.keras import regularizers\n",
        "from tensorflow.keras.regularizers import l1, l2, l1_l2\n",
        "from tensorflow.keras.preprocessing.image import ImageDataGenerator"
      ]
    },
    {
      "cell_type": "code",
      "execution_count": null,
      "metadata": {
        "id": "33SI-Ga98_rS"
      },
      "outputs": [],
      "source": [
        "df = pd.read_csv('/content/drive/MyDrive/585/Project 02 - Data.csv')\n",
        "\n",
        "# Convert the pixel strings into numpy arrays\n",
        "pixels = []\n",
        "for p in df.pixels:\n",
        "    pixels.append(np.fromstring(p, sep=' '))\n",
        "df['pixels'] = pixels\n",
        "pixels = None  # Release memory\n",
        "\n",
        "# Create a dataframe containing only those rows for which age & gender predictions need to be made\n",
        "df_predict = df[pd.isnull(df.age) == True].copy()\n",
        "\n",
        "# Remove all incomplete rows from the 'df' dataframe\n",
        "df = df[pd.isnull(df.age) == False].copy()\n",
        "\n",
        "# Split the data into X and y\n",
        "X_pixels = df['pixels']\n",
        "y_age = df['age']\n",
        "y_gender = df['gender']\n",
        "\n",
        "# Split the data into training and testing sets for age and gender\n",
        "X_pixels_train, X_pixels_test, y_age_train, y_age_test, y_gender_train, y_gender_test = train_test_split(\n",
        "    X_pixels, y_age, y_gender, test_size=0.05, random_state=42)\n",
        "\n",
        "# Convert the pixel values to tensors and normalize (assuming grayscale images)\n",
        "X_pixels_train = tf.convert_to_tensor(np.array(list(X_pixels_train)).reshape(-1, 48, 48, 1) / 255.0)\n",
        "X_pixels_test = tf.convert_to_tensor(np.array(list(X_pixels_test)).reshape(-1, 48, 48, 1) / 255.0)\n",
        "#full data set\n",
        "X_pixels_total = tf.convert_to_tensor(np.array(list(X_pixels)).reshape(-1, 48, 48, 1) / 255.0)\n"
      ]
    },
    {
      "cell_type": "code",
      "execution_count": null,
      "metadata": {
        "colab": {
          "base_uri": "https://localhost:8080/"
        },
        "id": "br0SAVpjxUwh",
        "outputId": "e0169eeb-4133-4d17-cfc7-4548443d5700"
      },
      "outputs": [
        {
          "data": {
            "text/plain": [
              "(8500,)"
            ]
          },
          "execution_count": 20,
          "metadata": {},
          "output_type": "execute_result"
        }
      ],
      "source": [
        "y_age.shape"
      ]
    },
    {
      "cell_type": "code",
      "execution_count": null,
      "metadata": {
        "colab": {
          "base_uri": "https://localhost:8080/"
        },
        "id": "ASxlJL2Y8Y12",
        "outputId": "92dd1951-a472-490c-e6d3-06abde97a60d"
      },
      "outputs": [],
      "source": [
        "\n",
        "inputs = tf.keras.Input(shape=(48, 48, 1))\n",
        "#x = data_augmentation(inputs)\n",
        "\n",
        "# 1st Convolutional block\n",
        "x = tf.keras.layers.Conv2D(filters=96, kernel_size=(3, 3), padding='same', activation='relu',kernel_regularizer=l2(l2=0.1))(inputs) \n",
        "x = tf.keras.layers.BatchNormalization()(x)\n",
        "\n",
        "#x = Dropout(0.2)(x)\n",
        "# 2nd Convolutional block with residual connection\n",
        "res = tf.keras.layers.Conv2D(filters=256, kernel_size=(1, 1), strides=(2, 2), padding='same')(x) \n",
        "x = tf.keras.layers.Conv2D(filters=256, kernel_size=(3, 3), padding='same', activation='relu', kernel_regularizer=l2(l2=0.1))(x)\n",
        "x = tf.keras.layers.BatchNormalization()(x)\n",
        "#x = Dropout(0.2)(x)\n",
        "x = tf.keras.layers.Conv2D(filters=256, kernel_size=(3, 3), padding='same', activation='relu', kernel_regularizer=l2(l2=0.1))(x)\n",
        "x = tf.keras.layers.BatchNormalization()(x)\n",
        "#x = Dropout(0.2)(x)\n",
        "x = tf.keras.layers.MaxPooling2D(pool_size=(2, 2))(x)\n",
        "x = Add()([res, x]) # Adding the residual connection\n",
        "# x = tf.keras.layers.Conv2D(filters=512, kernel_size=(3, 3), padding='same', activation='relu', kernel_regularizer=l1_l2(l1=0.01, l2=0.01))(x)\n",
        "# 3rd Convolutional block\n",
        "x = tf.keras.layers.Conv2D(filters=512, kernel_size=(3, 3), padding='same', activation='relu',kernel_regularizer=l2(l2=0.1))(x)\n",
        "x = tf.keras.layers.BatchNormalization()(x)\n",
        "#x = Dropout(0.5)(x)\n",
        "x = tf.keras.layers.MaxPooling2D(pool_size=(2, 2))(x)\n",
        "#x = tf.keras.layers.MaxPooling2D(pool_size=(2, 2))(x)\n",
        "x = tf.keras.layers.Flatten()(x)\n",
        "\n",
        "x = tf.keras.layers.Dense(units=512, activation='relu', kernel_regularizer=l2(l2=0.1))(x)\n",
        "#x = Dropout(0.5)(x)\n",
        "x = tf.keras.layers.Dense(units=256, activation='relu', kernel_regularizer=l2(l2=0.1))(x)\n",
        "#x = tf.keras.layers.Dense(units=128, activation='relu')(x)\n",
        "#x = Dropout(0.5)(x)\n",
        "\n",
        "gender = tf.keras.layers.Dense(units=1, activation='sigmoid', name='gender')(x)\n",
        "age = tf.keras.layers.Dense(units=1, activation='relu', name='age')(x)\n",
        "\n",
        "model = tf.keras.models.Model(inputs=inputs, outputs=[gender, age])\n",
        "\n",
        "optimizer = Adam(learning_rate=0.0001)\n",
        "\n",
        "model.compile(optimizer=optimizer,\n",
        "              loss={'gender': 'binary_crossentropy', 'age': 'mse'},\n",
        "              metrics={'gender': 'accuracy', 'age': 'mae'})\n",
        "\n",
        "\n",
        "# Add learning rate reduction and early stopping callbacks\n",
        "callbacks_list = [\n",
        "    tf.keras.callbacks.ReduceLROnPlateau(monitor='loss', patience=3, verbose=1, factor=0.5, min_lr=0.00001),\n",
        "    tf.keras.callbacks.EarlyStopping(monitor='loss', patience=15)\n",
        "]\n",
        "\n",
        "# history = model.fit(train_dataset.map(lambda x, y: (data_augmentation(x, training=True), y)),\n",
        "#                     epochs=50,\n",
        "#                     callbacks=callbacks_list, validation_data=val_dataset)\n",
        "\n",
        "history = model.fit(X_pixels_total, {'age': y_age, 'gender': y_gender},\n",
        "                    epochs=73, batch_size=12,\n",
        "                    callbacks=callbacks_list)\n",
        "#, validation_split=0.10\n",
        "# Evaluate the model\n",
        "loss, gender_loss, age_loss, gender_accuracy, age_mae = model.evaluate(X_pixels_total, {'age': y_age, 'gender': y_gender})\n",
        "\n",
        "# Print the evaluation results\n",
        "print('Loss: {:.4f}'.format(loss))\n",
        "print('Gender Loss: {:.4f}'.format(gender_loss))\n",
        "print('Age Loss: {:.4f}'.format(age_loss))\n",
        "print('Gender Accuracy: {:.4f}'.format(gender_accuracy))\n",
        "print('Age MAE: {:.4f}'.format(age_mae))\n"
      ]
    },
    {
      "cell_type": "code",
      "execution_count": null,
      "metadata": {
        "colab": {
          "base_uri": "https://localhost:8080/"
        },
        "id": "LO1QggFXEiqj",
        "outputId": "e706bebe-b114-45a8-a0df-88f77537addf"
      },
      "outputs": [],
      "source": [
        " # Evaluate the model on the validation data\n",
        "val_loss, val_gender_loss, val_age_loss, val_gender_accuracy, val_age_mae = model.evaluate(X_pixels_test, {'age': y_age_test, 'gender': y_gender_test})\n",
        "\n",
        "    # Print the validation results\n",
        "print('Validation Loss: {:.4f}'.format(val_loss))\n",
        "print('Validation Gender Loss: {:.4f}'.format(val_gender_loss))\n",
        "print('Validation Age Loss: {:.4f}'.format(val_age_loss))\n",
        "print('Validation Gender Accuracy: {:.4f}'.format(val_gender_accuracy))\n",
        "print('Validation Age MAE: {:.4f}'.format(val_age_mae))"
      ]
    },
    {
      "cell_type": "code",
      "execution_count": null,
      "metadata": {
        "id": "fP6cSXNIKsWy"
      },
      "outputs": [],
      "source": [
        "df = pd.read_csv('/content/drive/MyDrive/585/Project 02 - Data.csv')\n",
        "\n",
        "# Convert the pixel strings into numpy arrays\n",
        "pixels = []\n",
        "for p in df.pixels:\n",
        "    pixels.append(np.fromstring(p, sep=' '))\n",
        "df['pixels'] = pixels\n",
        "pixels = None  # Release memory\n",
        "\n",
        "# Create a dataframe containing only those rows for which age & gender predictions need to be made\n",
        "df_predict = df[pd.isnull(df.age) == True].copy()\n",
        "\n",
        "\n",
        "X_pixels_predict = df_predict['pixels']\n",
        "X_pixels_predict = tf.convert_to_tensor(np.array(list(X_pixels_predict)).reshape(-1, 48, 48, 1) / 255.0)"
      ]
    },
    {
      "cell_type": "code",
      "execution_count": null,
      "metadata": {
        "id": "uAT2OcYLK6n9"
      },
      "outputs": [],
      "source": [
        "predictions = model.predict(X_pixels_predict)\n",
        "\n",
        "\n",
        "# Create a DataFrame to hold the predictions\n",
        "df_Predictions = pd.DataFrame({'gender': predictions[0].flatten(), 'age': predictions[1].flatten()})\n",
        "\n",
        "# Print or output the DataFrame\n",
        "print(df_Predictions)"
      ]
    },
    {
      "cell_type": "code",
      "execution_count": null,
      "metadata": {
        "id": "oH9-0XiKLIYY"
      },
      "outputs": [],
      "source": [
        "df_Predictions['gender'] = df_Predictions['gender'].apply(lambda x: 1 if x > 0.5 else 0)"
      ]
    },
    {
      "cell_type": "code",
      "execution_count": null,
      "metadata": {
        "colab": {
          "base_uri": "https://localhost:8080/"
        },
        "id": "gyo06ZT2LdtW",
        "outputId": "b003aa85-288d-42f4-8788-668ef16e54f7"
      },
      "outputs": [
        {
          "name": "stdout",
          "output_type": "stream",
          "text": [
            "          id  gender        age\n",
            "8500  8501.0     NaN        NaN\n",
            "8501  8502.0     NaN        NaN\n",
            "8502  8503.0     NaN        NaN\n",
            "8503  8504.0     NaN        NaN\n",
            "8504  8505.0     NaN        NaN\n",
            "...      ...     ...        ...\n",
            "1495     NaN     0.0   5.974655\n",
            "1496     NaN     1.0  38.895748\n",
            "1497     NaN     0.0  36.105755\n",
            "1498     NaN     0.0  37.037350\n",
            "1499     NaN     0.0  22.848570\n",
            "\n",
            "[3000 rows x 3 columns]\n"
          ]
        }
      ],
      "source": [
        "df_predict['row_position'] = -1\n",
        "df_Predictions['row_position'] = -1\n",
        "\n",
        "# Perform join \n",
        "df_combined = pd.concat([df_predict['id'], df_Predictions], axis=1)\n",
        "\n",
        "# Remove \"row_position\" column\n",
        "df_combined.drop('row_position', axis=1, inplace=True)\n",
        "\n",
        "# Display data frame\n",
        "print(df_combined)"
      ]
    },
    {
      "cell_type": "code",
      "execution_count": null,
      "metadata": {
        "id": "HuD5uOibQp8S"
      },
      "outputs": [],
      "source": [
        "df_combined[['id', 'age', 'gender']].to_csv('Safai, Cameron222.csv', index=False)"
      ]
    },
    {
      "cell_type": "code",
      "execution_count": null,
      "metadata": {
        "colab": {
          "base_uri": "https://localhost:8080/",
          "height": 441
        },
        "id": "nZqyhUipMtqi",
        "outputId": "ba33a37a-88b5-4e62-fadc-a933ebef86c1"
      },
      "outputs": [
        {
          "name": "stdout",
          "output_type": "stream",
          "text": [
            "Original shape of T_pixels: (1,)\n",
            "Reshaped T_pixels shape: (1, 48, 48, 1)\n"
          ]
        },
        {
          "data": {
            "image/png": "[encoded data removed]",
            "text/plain": [
              "<Figure size 640x480 with 1 Axes>"
            ]
          },
          "metadata": {},
          "output_type": "display_data"
        }
      ],
      "source": [
        "from matplotlib import pyplot as plt\n",
        "\n",
        "T_pixels = df['pixels'][df['id'] == 8514]\n",
        "T_pixels = T_pixels / 255\n",
        "img_width, img_height = 48, 48  \n",
        "\n",
        "\n",
        "print(\"Original shape of T_pixels:\", T_pixels.shape)\n",
        "\n",
        "try:\n",
        "    T_pixels = np.array([x.reshape(img_width, img_height, 1) for x in T_pixels])\n",
        "    print(\"Reshaped T_pixels shape:\", T_pixels.shape)\n",
        "\n",
        "\n",
        "except ValueError as e:\n",
        "    print(\"Error occurred:\", e)\n",
        "\n",
        "img_width, img_height = 48, 48  \n",
        "T_pixels = T_pixels.reshape(img_height, img_width)\n",
        "\n",
        "# Display the image\n",
        "plt.imshow(T_pixels, cmap='gray')\n",
        "plt.axis('off')\n",
        "plt.show()"
      ]
    },
    {
      "cell_type": "code",
      "execution_count": null,
      "metadata": {
        "id": "fkduZR-DNru9"
      },
      "outputs": [],
      "source": [
        "df_Predictions"
      ]
    }
  ],
  "metadata": {
    "accelerator": "GPU",
    "colab": {
      "gpuType": "T4",
      "machine_shape": "hm",
      "provenance": []
    },
    "kernelspec": {
      "display_name": "Python 3",
      "name": "python3"
    },
    "language_info": {
      "name": "python"
    }
  },
  "nbformat": 4,
  "nbformat_minor": 0
}
